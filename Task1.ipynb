{
 "cells": [
  {
   "cell_type": "markdown",
   "metadata": {},
   "source": [
    "### Task 1 less than k"
   ]
  },
  {
   "cell_type": "markdown",
   "metadata": {},
   "source": [
    "Given a positive integer “k” and a list of integer numbers, look for the numbers within the list, that are less than k. Consider an appropriate number of qubits and explain why your proposal is valid for all kinds of numbers in case \n",
    "\n",
    "def less_than_k (int:k, list[int] ,list_n):\n",
    "     “””\n",
    "k : integer value that is the positive number to compare in list_n,\n",
    "list_n : integer list that has positive numbers.\n",
    "Return the numbers that are in list_n and are less than k \n",
    "     “””\n",
    "\n",
    "     # use a framework that works with quantum circuits, qiskit, cirq, pennylane, etc. \n",
    "\n",
    "      # consider print your quantum circuit,\n",
    "\n",
    "Example:\n",
    "\n",
    "A = less_than_k (7,[4,9,11,14,1,13,6,15])\n",
    "print(A)\n",
    "\n",
    "“4,1,6”"
   ]
  },
  {
   "cell_type": "code",
   "execution_count": 23,
   "metadata": {},
   "outputs": [],
   "source": [
    "import math\n",
    "\n",
    "from qiskit import QuantumRegister, ClassicalRegister, QuantumCircuit\n",
    "from qiskit.quantum_info import Statevector, Operator, DensityMatrix\n",
    "from qiskit.circuit.library import GroverOperator, MCMT, ZGate, MCMT, ZGate, XGate\n",
    "from qiskit.visualization import plot_distribution, array_to_latex\n",
    "from qiskit.primitives import Sampler\n",
    "from qiskit_aer import AerSimulator, StatevectorSimulator\n",
    "\n",
    "import numpy as np"
   ]
  },
  {
   "cell_type": "code",
   "execution_count": 24,
   "metadata": {},
   "outputs": [],
   "source": [
    "def rev_bin(value: int, zeros: int):\n",
    "    return bin(value)[2:].zfill(zeros)[::-1]"
   ]
  },
  {
   "cell_type": "code",
   "execution_count": 25,
   "metadata": {},
   "outputs": [],
   "source": [
    "def state_preparation(list_n: list[int], num_index_qubits: int, num_value_qubits: int, debug: bool = False) -> QuantumCircuit:\n",
    "    \"\"\"\n",
    "    This function prepares the quantum state for the less_than_k algorithm.\n",
    "\n",
    "    The state preparation operation encodes the input list of numbers into a quantum state using qubits for the index and value of each number. The index qubits are used to represent the position of each number in the list, while the value qubits are used to represent the value of each number.\n",
    "\n",
    "    Parameters:\n",
    "    list_n (list[int]): The list of numbers to be encoded.\n",
    "    num_index_qubits (int): The number of qubits used to represent the index of each number in the list.\n",
    "    num_value_qubits (int): The number of qubits used to represent the value of each number in the list.\n",
    "    debug (bool, optional): A flag to enable debug mode. Defaults to False.\n",
    "\n",
    "    Returns:\n",
    "    QuantumCircuit: The quantum circuit for the state preparation operation.\n",
    "    \"\"\"\n",
    "    addr = QuantumRegister(num_index_qubits, \"addr\")\n",
    "    data = QuantumRegister(num_value_qubits, \"data\")\n",
    "\n",
    "    qc = QuantumCircuit(addr, data)\n",
    "\n",
    "    for (i, v) in enumerate(list_n):\n",
    "        index_bin_rep = rev_bin(i, num_index_qubits)\n",
    "\n",
    "        zero_inds = [ind for ind in range(num_index_qubits) if index_bin_rep.startswith(\"0\", ind)]\n",
    "        if zero_inds:\n",
    "            qc.x(zero_inds)\n",
    "\n",
    "        value_bin_rep = rev_bin(v, num_value_qubits)\n",
    "\n",
    "        one_inds = [ind for ind in range(num_value_qubits) if value_bin_rep.startswith(\"1\", ind)]\n",
    "        for ind in one_inds:\n",
    "            qc.mcx(addr, data[ind])\n",
    "\n",
    "        if zero_inds:\n",
    "            qc.x(zero_inds)\n",
    "\n",
    "        qc.barrier()\n",
    "\n",
    "    return qc"
   ]
  },
  {
   "cell_type": "code",
   "execution_count": 26,
   "metadata": {},
   "outputs": [],
   "source": [
    "def oracle(k: int, list_n: list[int], num_index_qubits: int, num_value_qubits: int, debug: bool = False):\n",
    "    \"\"\"\n",
    "    This function implements the oracle operation in the less_than_k algorithm.\n",
    "\n",
    "    The oracle operation marks all the numbers in the list that are less than the specified value k. It does this by comparing each number in the list with k and flipping the corresponding bits in a binary representation of the number. The marked numbers are then used to search for solutions in the final step of the algorithm.\n",
    "\n",
    "    Parameters:\n",
    "    k (int): The value to compare each number in the list with.\n",
    "    list_n (list[int]): The list of numbers to be searched.\n",
    "    num_index_qubits (int): The number of qubits used to represent the index of each number in the list.\n",
    "    num_value_qubits (int): The number of qubits used to represent the value of each number in the list.\n",
    "    debug (bool, optional): A flag to enable debug mode. Defaults to False.\n",
    "\n",
    "    Returns:\n",
    "    QuantumCircuit: The oracle operation as a quantum circuit.\n",
    "\n",
    "    \"\"\"\n",
    "    qc = QuantumCircuit(num_index_qubits)\n",
    "\n",
    "    for (i, n) in enumerate(list_n):\n",
    "        if n < k:\n",
    "            index_bin_rep = rev_bin(i, num_index_qubits)\n",
    "            value_bin_rep = rev_bin(n, num_value_qubits)\n",
    "\n",
    "            if debug: print(f'{i} - {n} --> {index_bin_rep} --> {value_bin_rep}')\n",
    "\n",
    "            zero_inds = [ind for ind in range(num_index_qubits) if index_bin_rep.startswith(\"0\", ind)]\n",
    "\n",
    "            if zero_inds:\n",
    "                qc.x(zero_inds)\n",
    "\n",
    "            qc.compose(MCMT(ZGate(), num_index_qubits - 1, 1), inplace=True)\n",
    "\n",
    "            if zero_inds:\n",
    "                qc.x(zero_inds)\n",
    "\n",
    "            qc.barrier()\n",
    "\n",
    "    return qc"
   ]
  },
  {
   "cell_type": "code",
   "execution_count": 27,
   "metadata": {},
   "outputs": [],
   "source": [
    "def diffusion_operator(num_qubits: int) -> QuantumCircuit:\n",
    "    qc = QuantumCircuit(num_qubits)\n",
    "\n",
    "    for qubit in range(num_qubits):\n",
    "        qc.h(qubit)\n",
    "    for qubit in range(num_qubits):\n",
    "        qc.x(qubit)\n",
    "\n",
    "    qc.barrier(range(num_qubits))\n",
    "\n",
    "    qc.h(num_qubits - 1)\n",
    "    qc.mcx(list(range(num_qubits - 1)), num_qubits - 1)\n",
    "    qc.h(num_qubits - 1)\n",
    "\n",
    "    qc.barrier(range(num_qubits))\n",
    "\n",
    "    for qubit in range(num_qubits):\n",
    "        qc.x(qubit)\n",
    "    for qubit in range(num_qubits):\n",
    "        qc.h(qubit)\n",
    "\n",
    "    return qc"
   ]
  },
  {
   "cell_type": "code",
   "execution_count": 28,
   "metadata": {},
   "outputs": [],
   "source": [
    "def get_indexes(dist, m: int, debug: bool = False) -> list[int]:\n",
    "    probabilities = list(dist.values())\n",
    "\n",
    "    average_probability = np.mean(probabilities)\n",
    "    max_probability = max(probabilities)\n",
    "    threshold = 0.1\n",
    "\n",
    "    if debug:\n",
    "        print(f'Probabilities: {probabilities} are sum to {sum(probabilities)}')\n",
    "        print(f'Average probability: {average_probability}')\n",
    "        print(f'Max probability: {max_probability}')\n",
    "\n",
    "    indexes = [index for index, prob in dist.items() if np.abs(max_probability - prob) <= threshold]\n",
    "    if len(indexes) != m:\n",
    "        raise ValueError(f'The number of indexes is not equal to the number of solutions: {len(indexes)}!= {m} in probabilities distribution {dist}')\n",
    "    return indexes"
   ]
  },
  {
   "cell_type": "code",
   "execution_count": 29,
   "metadata": {},
   "outputs": [],
   "source": [
    "def calculate_solutions(k: int, list_n: list[int]):\n",
    "    return [n for n in list_n if n < k]"
   ]
  },
  {
   "cell_type": "code",
   "execution_count": 33,
   "metadata": {},
   "outputs": [],
   "source": [
    "def less_than_k(k: int, list_n: list[int], debug: bool = False):\n",
    "    \"\"\"\n",
    "    k : integer value that is the positive number to compare in list_n,\n",
    "    list_n : integer list that has positive numbers.\n",
    "    Return the numbers that are in list_n and are less than k\n",
    "    \"\"\"\n",
    "    for n in list_n:\n",
    "        if not isinstance(n, int) or n <= 0:\n",
    "            raise ValueError('Array must contain only positive integer numbers')\n",
    "\n",
    "    solutions = calculate_solutions(k, list_n)\n",
    "    m = len(solutions)\n",
    "\n",
    "    if debug: print(f'Number of solutions: {m}')\n",
    "\n",
    "    if m == 0:\n",
    "        return []\n",
    "    elif len(solutions) >= len(list_n) / 2:\n",
    "        return solutions\n",
    "\n",
    "    num_index_qubits = int(np.ceil(np.log2(len(list_n))))\n",
    "    num_value_qubits = int(np.ceil(np.log2(max(list_n))))\n",
    "    total_qubits = num_index_qubits + num_value_qubits\n",
    "    N = 2 ** num_index_qubits\n",
    "    optimal_num_iterations = math.floor(\n",
    "        (math.pi / 4) * math.sqrt(N / m)\n",
    "    )\n",
    "\n",
    "    if debug:\n",
    "        print(f\"{num_index_qubits} qubits for index and {num_value_qubits} qubits for data in array\")\n",
    "        print(f'Optimal number of iterations: {optimal_num_iterations}')\n",
    "\n",
    "    qc = QuantumCircuit(total_qubits, num_index_qubits)\n",
    "    qc.h(range(num_index_qubits))\n",
    "\n",
    "    qc.barrier()\n",
    "\n",
    "    for i in range(optimal_num_iterations):\n",
    "        S = state_preparation(list_n, num_index_qubits, num_value_qubits, debug)\n",
    "        S.name = \"S\"\n",
    "        qc.append(S, range(total_qubits))\n",
    "\n",
    "        if debug:\n",
    "            print(f\"After state preparation operation (iteration {i})\")\n",
    "            display(array_to_latex(StatevectorSimulator().run(qc.decompose(reps=2)).result().get_statevector(), max_size=128))\n",
    "\n",
    "        oracle_operator = oracle(k, list_n, num_index_qubits, num_value_qubits, debug)\n",
    "        oracle_operator.name = 'Oracle'\n",
    "        qc.append(oracle_operator, range(num_index_qubits))\n",
    "\n",
    "        if debug:\n",
    "            print(f\"After oracle operation (iteration {i})\")\n",
    "            display(array_to_latex(StatevectorSimulator().run(qc.decompose(reps=2)).result().get_statevector(), max_size=128))\n",
    "\n",
    "        S_inv = S.inverse()\n",
    "        S_inv.name = \"S_inv\"\n",
    "        qc.append(S_inv, range(total_qubits))\n",
    "\n",
    "        diffusion_op = diffusion_operator(num_index_qubits)\n",
    "        diffusion_op.name = 'D'\n",
    "        qc.append(diffusion_op, range(num_index_qubits))\n",
    "\n",
    "        if debug:\n",
    "            print(f\"After amplification operation (iteration {i})\")\n",
    "            display(array_to_latex(StatevectorSimulator().run(qc.decompose(reps=2)).result().get_statevector(), max_size=128))\n",
    "\n",
    "        qc.barrier()\n",
    "\n",
    "    qc.measure(range(num_index_qubits), range(num_index_qubits))\n",
    "\n",
    "    dist = Sampler().run(qc, shots=1024).result().quasi_dists[0]\n",
    "    indexes = get_indexes(dist, m, debug)\n",
    "    if debug: display(plot_distribution(dist, figsize=(7, 2)))\n",
    "\n",
    "    return [list_n[index] for index in indexes]"
   ]
  },
  {
   "cell_type": "code",
   "execution_count": 34,
   "metadata": {},
   "outputs": [
    {
     "data": {
      "image/png": "[encoded data removed]",
      "text/plain": [
       "<Figure size 561.804x351.167 with 1 Axes>"
      ]
     },
     "metadata": {},
     "output_type": "display_data"
    },
    {
     "name": "stdout",
     "output_type": "stream",
     "text": [
      "[4, 1, 6]\n"
     ]
    }
   ],
   "source": [
    "k = 7\n",
    "list_n = [4, 9, 11, 14, 1, 13, 6, 15]\n",
    "A = less_than_k(k, list_n)\n",
    "print(A)"
   ]
  },
  {
   "cell_type": "markdown",
   "metadata": {},
   "source": [
    "References:\n",
    "\n",
    "[1] Deutsch, David, and Richard Jozsa. \"Rapid solution of problems by quantum computation.\" Proceedings of the Royal Society of London. Series A: Mathematical and Physical Sciences 439.1907 (1992): 553-558.\n",
    "\n",
    "[2] Bernstein, Ethan, and Umesh Vazirani. \"Quantum complexity theory.\" SIAM Journal on computing 26.5 (1997): 1411-1473.\n",
    "\n",
    "[3] Grover, Lov K. , \"A fast quantum mechanical algorithm for database search\", Proceedings of the 28th Annual ACM Symposium on the Theory of Computing (1996), arXiv:quant-ph/9605043"
   ]
  },
  {
   "cell_type": "code",
   "execution_count": 32,
   "metadata": {},
   "outputs": [
    {
     "name": "stderr",
     "output_type": "stream",
     "text": [
      "test_empty_array (__main__.TestTask1.test_empty_array) ... ok\n",
      "test_positive_intigers_in_array_0 (__main__.TestTask1.test_positive_intigers_in_array_0) ... ok\n",
      "test_positive_intigers_in_array_1 (__main__.TestTask1.test_positive_intigers_in_array_1) ... ok\n",
      "test_search_in_array_0 (__main__.TestTask1.test_search_in_array_0) ... ok\n",
      "test_search_in_array_1 (__main__.TestTask1.test_search_in_array_1) ... ok\n",
      "test_search_in_array_2 (__main__.TestTask1.test_search_in_array_2) ... ok\n",
      "test_search_in_array_3 (__main__.TestTask1.test_search_in_array_3) ... ok\n",
      "test_search_in_array_4 (__main__.TestTask1.test_search_in_array_4) ... ok\n",
      "test_search_in_array_with_duplicates_0 (__main__.TestTask1.test_search_in_array_with_duplicates_0) ... ok\n",
      "test_search_in_array_with_duplicates_1 (__main__.TestTask1.test_search_in_array_with_duplicates_1) ... ok\n",
      "test_search_in_array_with_duplicates_2 (__main__.TestTask1.test_search_in_array_with_duplicates_2) ... ok\n",
      "test_search_in_array_with_duplicates_3 (__main__.TestTask1.test_search_in_array_with_duplicates_3) ... ok\n",
      "\n",
      "----------------------------------------------------------------------\n",
      "Ran 12 tests in 0.512s\n",
      "\n",
      "OK\n"
     ]
    },
    {
     "data": {
      "text/plain": [
       "<unittest.main.TestProgram at 0x2012477cb50>"
      ]
     },
     "execution_count": 32,
     "metadata": {},
     "output_type": "execute_result"
    }
   ],
   "source": [
    "import unittest\n",
    "from parameterized import parameterized\n",
    "\n",
    "class TestTask1(unittest.TestCase):\n",
    "\n",
    "    @parameterized.expand([\n",
    "        (7, [2, 5, -6, 6]),\n",
    "        (7, [2, 5, 1, 4.21, 6])\n",
    "    ])\n",
    "    def test_positive_intigers_in_array(self, k, list_n):\n",
    "        with self.assertRaises(ValueError):\n",
    "            less_than_k(k, list_n)\n",
    "\n",
    "    def test_empty_array(self):\n",
    "        self.assertEqual(less_than_k(7, []), [])\n",
    "\n",
    "    @parameterized.expand([\n",
    "        (7, [4, 9, 2, 14, 1, 13, 6, 15], [4, 2, 1, 6]),\n",
    "        (7, [4, 9, 11, 14, 1, 13, 6, 15], [4, 1, 6]),\n",
    "        (7, [4, 9, 11, 14, 10, 13, 6, 15], [4, 6]),\n",
    "        (7, [12, 9, 11, 14, 10, 13, 6, 15], [6]),\n",
    "        (7, [12, 9, 11, 14, 10, 13, 7, 15], [])\n",
    "    ])\n",
    "    def test_search_in_array(self, k, list_n, expected_result):\n",
    "        self.assertEqual(less_than_k(k, list_n), expected_result)\n",
    "\n",
    "    @parameterized.expand([\n",
    "        (7, [1, 9, 11, 1, 14, 13, 6, 15], [1, 1, 6]),\n",
    "        (7, [4, 9, 11, 14, 4, 13, 6, 15], [4, 4, 6]),\n",
    "        (7, [6, 9, 11, 14, 6, 13, 6, 15], [6, 6, 6]),\n",
    "        (7, [1, 9, 11, 14, 1, 13, 8, 15], [1, 1])\n",
    "    ])\n",
    "    def test_search_in_array_with_duplicates(self, k, list_n, expected_result):\n",
    "        self.assertEqual(less_than_k(k, list_n), expected_result)\n",
    "\n",
    "unittest.main(argv=[''], verbosity=2, exit=False)"
   ]
  }
 ],
 "metadata": {
  "kernelspec": {
   "display_name": "Python 3",
   "language": "python",
   "name": "python3"
  },
  "language_info": {
   "codemirror_mode": {
    "name": "ipython",
    "version": 3
   },
   "file_extension": ".py",
   "mimetype": "text/x-python",
   "name": "python",
   "nbconvert_exporter": "python",
   "pygments_lexer": "ipython3",
   "version": "3.11.8"
  }
 },
 "nbformat": 4,
 "nbformat_minor": 2
}
